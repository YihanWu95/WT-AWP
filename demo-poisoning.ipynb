{
 "cells": [
  {
   "cell_type": "markdown",
   "id": "6633991f",
   "metadata": {},
   "source": [
    "## GNN+WT-AWP for poisoning robustness"
   ]
  },
  {
   "cell_type": "code",
   "execution_count": 1,
   "id": "4bb2cd8d",
   "metadata": {},
   "outputs": [],
   "source": [
    "import numpy as np\n",
    "from deeprobust.graph.data import Dataset\n",
    "from deeprobust.graph.global_attack import Metattack,PGDAttack,DICE\n",
    "from deeprobust.graph.utils import preprocess\n",
    "import os\n",
    "import torch\n",
    "from deeprobust.graph.data import Dataset, PtbDataset,PrePtbDataset\n",
    "from deeprobust.graph.defense import GCN, GCNJaccard, AdvTraining, SimPGCN, RGCN, ProGNN, GCNSVD\n",
    "from scipy import sparse\n",
    "torch.cuda.set_device(3) \n",
    "device = torch.device(\"cuda\")"
   ]
  },
  {
   "cell_type": "markdown",
   "id": "39f0dded",
   "metadata": {},
   "source": [
    "#### Generate perturbed graph"
   ]
  },
  {
   "cell_type": "code",
   "execution_count": 2,
   "id": "f290b5cc",
   "metadata": {},
   "outputs": [],
   "source": [
    "def get_perturbed_graph(attack_method,data_name,seed_data):\n",
    "    if attack_method == 'dice':\n",
    "        data = Dataset(root='/tmp/', name=data_name,setting = 'nettack',seed=seed_data)\n",
    "        adj, features, labels = data.adj, data.features, data.labels\n",
    "        idx_train, idx_val, idx_test = data.idx_train, data.idx_val, data.idx_test\n",
    "        perturbations = int(0.05 * (adj.sum()//2))\n",
    "        model = DICE()\n",
    "        model.attack(adj, labels, n_perturbations=perturbations)\n",
    "    elif attack_method == 'pgd':\n",
    "        data = Dataset(root='/tmp/', name=data_name,setting = 'nettack',seed=seed_data)\n",
    "        adj, features, labels = data.adj, data.features, data.labels\n",
    "        adj, features, labels = preprocess(adj, features, labels, preprocess_adj=False) # conver to tensor\n",
    "        idx_train, idx_val, idx_test = data.idx_train, data.idx_val, data.idx_test\n",
    "        # Setup Victim Model\n",
    "        victim_model = GCN(nfeat=features.shape[1], nclass=labels.max().item()+1,\n",
    "                            nhid=16, dropout=0.5, weight_decay=5e-4, device='cpu').to('cpu')\n",
    "        victim_model.fit(features, adj, labels, idx_train)\n",
    "        # Setup Attack Model\n",
    "        perturbations = int(0.05 * (adj.sum()//2))\n",
    "        model = PGDAttack(model=victim_model, nnodes=adj.shape[0], loss_type='CE', device='cpu').to('cpu')\n",
    "        model.attack(features, adj, labels, idx_train, n_perturbations=perturbations)\n",
    "    elif attack_method == 'metattack':\n",
    "        data = Dataset(root='/tmp/', name=data_name,setting = 'nettack',seed=seed_data)\n",
    "        adj, features, labels = data.adj, data.features, data.labels\n",
    "        adj, features, labels = preprocess(adj, features, labels, preprocess_adj=False) # conver to tensor\n",
    "        idx_train, idx_val, idx_test = data.idx_train, data.idx_val, data.idx_test\n",
    "        print(len(idx_train),len(idx_val),len(idx_test))\n",
    "        idx_unlabeled = np.union1d(idx_val, idx_test)\n",
    "        # Setup Surrogate model\n",
    "        perturbations = int(0.05 * (adj.sum()//2))\n",
    "        surrogate = GCN(nfeat=features.shape[1], nclass=labels.max().item()+1,\n",
    "                    nhid=16, dropout=0, with_relu=False, with_bias=False, device='cuda').to('cuda')\n",
    "        surrogate.fit(features, adj, labels, idx_train, idx_val,)\n",
    "        # Setup Attack Model\n",
    "        model = Metattack(surrogate, nnodes=adj.shape[0], feature_shape=features.shape,\n",
    "                attack_structure=True, attack_features=False, device='cuda', lambda_=0).to('cuda')\n",
    "        # Attack\n",
    "        model.attack(features, adj, labels, idx_train, idx_unlabeled, n_perturbations=perturbations, ll_constraint=True)\n",
    "    return model.modified_adj"
   ]
  },
  {
   "cell_type": "code",
   "execution_count": 3,
   "id": "42f41209",
   "metadata": {
    "scrolled": true
   },
   "outputs": [
    {
     "name": "stdout",
     "output_type": "stream",
     "text": [
      "Loading cora dataset...\n",
      "Selecting 1 largest connected components\n"
     ]
    },
    {
     "name": "stderr",
     "output_type": "stream",
     "text": [
      "/home/yiw154/anaconda3/envs/grb/lib/python3.8/site-packages/torch/_tensor.py:575: UserWarning: floor_divide is deprecated, and will be removed in a future version of pytorch. It currently rounds toward 0 (like the 'trunc' function NOT 'floor'). This results in incorrect rounding for negative values.\n",
      "To keep the current behavior, use torch.div(a, b, rounding_mode='trunc'), or for actual floor division, use torch.div(a, b, rounding_mode='floor'). (Triggered internally at  /opt/conda/conda-bld/pytorch_1623448278899/work/aten/src/ATen/native/BinaryOps.cpp:467.)\n",
      "  return torch.floor_divide(self, other)\n",
      "100%|█████████████████████████████████████████| 200/200 [00:36<00:00,  5.53it/s]\n"
     ]
    }
   ],
   "source": [
    "modified_adj = get_perturbed_graph(attack_method = 'pgd',data_name = 'cora',seed_data=0)"
   ]
  },
  {
   "cell_type": "markdown",
   "id": "bafb37ad",
   "metadata": {},
   "source": [
    "#### Train a GNN+WT-AWP model \n",
    "notice data_name and seed_data in train_wtawp() and train_normal() must be the same as in get_perturbed_graph()"
   ]
  },
  {
   "cell_type": "code",
   "execution_count": 4,
   "id": "c24d0448",
   "metadata": {},
   "outputs": [],
   "source": [
    "def train_wtawp(data_name,model_name,seed_data,seed,weight,gamma,modified_adj):\n",
    " \n",
    "    data = Dataset(root='/tmp/', name=data_name,setting = 'nettack',seed = seed_data)\n",
    "    adj, features, labels = data.adj, data.features, data.labels\n",
    "    idx_train, idx_val, idx_test = data.idx_train, data.idx_val, data.idx_test\n",
    "    modified_adj = sparse.csr_matrix(modified_adj)\n",
    "    \n",
    "    if model_name == \"gcn\":\n",
    "        model = GCN(nfeat=features.shape[1], nclass=labels.max()+1, nhid=16, device=device)\n",
    "        model = model.to(device)\n",
    "        proxy = GCN(nfeat=features.shape[1], nclass=labels.max()+1, nhid=16, device=device)\n",
    "        proxy = proxy.to(device)\n",
    "        model.fit_mp(features, modified_adj, labels, idx_train,proxy=proxy,idx_val=idx_val,verbose=False,\n",
    "                     awp_weight = weight, awp_gamma = gamma,awp_step = 1,train_iters = 200,idx_test = idx_test,seed=seed)\n",
    "        model.eval()                \n",
    "    elif model_name == \"gcnjaccard\":\n",
    "        model = GCNJaccard(nfeat=features.shape[1], nclass=labels.max()+1, nhid=16, device=device)\n",
    "        proxy = GCNJaccard(nfeat=features.shape[1], nclass=labels.max()+1, nhid=16, device=device)\n",
    "        model = model.to(device)\n",
    "        proxy = proxy.to(device)\n",
    "        model.fit_mp(features, modified_adj, labels, idx_train,proxy=proxy,idx_val=idx_val,verbose=False,\n",
    "                     awp_weight = weight, awp_gamma = gamma,awp_step = 1,train_iters = 200,idx_test = idx_test,seed=seed)\n",
    "        model.eval()                \n",
    "    elif model_name == \"simpgcn\":\n",
    "        model = SimPGCN(nnodes=features.shape[0],nfeat=features.shape[1], nclass=labels.max()+1, nhid=16, device=device)\n",
    "        proxy = SimPGCN(nnodes=features.shape[0],nfeat=features.shape[1], nclass=labels.max()+1, nhid=16, device=device)\n",
    "        model = model.to(device)\n",
    "        proxy = proxy.to(device)\n",
    "        model.fit_mp(features, modified_adj, labels, idx_train,proxy=proxy,idx_val=idx_val,verbose=False,\n",
    "                     awp_weight = weight, awp_gamma = gamma,awp_step = 1,train_iters = 200,idx_test = idx_test,seed=seed)\n",
    "        model.eval()                \n",
    "    elif model_name == \"gcnsvd\":\n",
    "        model = GCNSVD(nfeat=features.shape[1], nclass=labels.max()+1, nhid=16, device=device)\n",
    "        proxy = GCNSVD(nfeat=features.shape[1], nclass=labels.max()+1, nhid=16, device=device)\n",
    "        model = model.to(device)\n",
    "        proxy = proxy.to(device)\n",
    "        model.fit_mp(features, modified_adj, labels, idx_train,proxy=proxy,idx_val=idx_val,verbose=False,\n",
    "                     awp_weight = weight, awp_gamma = gamma,awp_step = 1,train_iters = 200,idx_test = idx_test,seed=seed)\n",
    "        model.eval()            \n",
    "    return model.test(idx_test)"
   ]
  },
  {
   "cell_type": "code",
   "execution_count": 5,
   "id": "dfcfaea1",
   "metadata": {},
   "outputs": [
    {
     "name": "stdout",
     "output_type": "stream",
     "text": [
      "Loading cora dataset...\n",
      "Selecting 1 largest connected components\n",
      "Test set results: loss= 0.6178 accuracy= 0.8219\n"
     ]
    },
    {
     "data": {
      "text/plain": [
       "0.8219315895372235"
      ]
     },
     "execution_count": 5,
     "metadata": {},
     "output_type": "execute_result"
    }
   ],
   "source": [
    "train_wtawp(data_name='cora',model_name='gcn',seed_data=0,seed=1,weight = 0.5,gamma=0.7,modified_adj=modified_adj)"
   ]
  },
  {
   "cell_type": "markdown",
   "id": "93dcdd6d",
   "metadata": {},
   "source": [
    "#### Train a vanilla GNN model"
   ]
  },
  {
   "cell_type": "code",
   "execution_count": 6,
   "id": "1257de15",
   "metadata": {},
   "outputs": [],
   "source": [
    "def train_normal(data_name,model_name,seed_data,seed,modified_adj):\n",
    "    data = Dataset(root='/tmp/', name=data_name,setting = 'nettack',seed = seed_data)\n",
    "    adj, features, labels = data.adj, data.features, data.labels\n",
    "    idx_train, idx_val, idx_test = data.idx_train, data.idx_val, data.idx_test\n",
    "    modified_adj = sparse.csr_matrix(modified_adj)       \n",
    "    if model_name == \"gcn\":\n",
    "        model = GCN(nfeat=features.shape[1], nclass=labels.max()+1, nhid=16, device=device)\n",
    "        model = model.to(device)\n",
    "        model.fit(features, modified_adj, labels, idx_train,idx_val,verbose=False,seed = seed,)\n",
    "        model.eval()\n",
    "    elif model_name == \"gcnjaccard\":\n",
    "        model = GCNJaccard(nfeat=features.shape[1], nclass=labels.max()+1, nhid=16, device=device)\n",
    "        model = model.to(device)\n",
    "        model.fit(features, modified_adj, labels, idx_train,idx_val,verbose=False,seed = seed,)\n",
    "        model.eval()\n",
    "    elif model_name == \"simpgcn\":\n",
    "        model = SimPGCN(nnodes=features.shape[0],nfeat=features.shape[1], nclass=labels.max()+1, nhid=16, device=device)\n",
    "        model = model.to(device)\n",
    "        model.fit(features, modified_adj, labels, idx_train,idx_val,verbose=False,seed = seed,)\n",
    "        model.eval()\n",
    "    elif model_name == \"gcnsvd\":\n",
    "\n",
    "        model = GCNSVD(nfeat=features.shape[1], nclass=labels.max()+1, nhid=16, device=device)\n",
    "        model = model.to(device)\n",
    "        model.fit(features, modified_adj, labels, idx_train,idx_val,verbose=False,seed = seed,)\n",
    "        model.eval()\n",
    "            \n",
    "    return model.test(idx_test)"
   ]
  },
  {
   "cell_type": "code",
   "execution_count": 7,
   "id": "8fdc2110",
   "metadata": {},
   "outputs": [
    {
     "name": "stdout",
     "output_type": "stream",
     "text": [
      "Loading cora dataset...\n",
      "Selecting 1 largest connected components\n",
      "Test set results: loss= 0.6635 accuracy= 0.8099\n"
     ]
    },
    {
     "data": {
      "text/plain": [
       "0.8098591549295775"
      ]
     },
     "execution_count": 7,
     "metadata": {},
     "output_type": "execute_result"
    }
   ],
   "source": [
    "train_normal(data_name='cora',model_name='gcn',seed_data=0,seed=1,modified_adj=modified_adj)"
   ]
  },
  {
   "cell_type": "code",
   "execution_count": null,
   "id": "3beb6ab8",
   "metadata": {},
   "outputs": [],
   "source": []
  }
 ],
 "metadata": {
  "kernelspec": {
   "display_name": "Python 3 (ipykernel)",
   "language": "python",
   "name": "python3"
  },
  "language_info": {
   "codemirror_mode": {
    "name": "ipython",
    "version": 3
   },
   "file_extension": ".py",
   "mimetype": "text/x-python",
   "name": "python",
   "nbconvert_exporter": "python",
   "pygments_lexer": "ipython3",
   "version": "3.8.10"
  }
 },
 "nbformat": 4,
 "nbformat_minor": 5
}
