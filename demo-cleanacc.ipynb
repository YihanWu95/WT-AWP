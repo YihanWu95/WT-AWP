{
 "cells": [
  {
   "cell_type": "markdown",
   "id": "a1a8eb75",
   "metadata": {},
   "source": [
    "## GNN+WT-AWP for clean accuracy"
   ]
  },
  {
   "cell_type": "code",
   "execution_count": 1,
   "id": "df7ee6dc",
   "metadata": {},
   "outputs": [],
   "source": [
    "import numpy as np\n",
    "from deeprobust.graph.data import Dataset\n",
    "from deeprobust.graph.utils import preprocess\n",
    "import os\n",
    "import torch\n",
    "from deeprobust.graph.data import Dataset,Dpr2Pyg,Pyg2Dpr\n",
    "from deeprobust.graph.defense import GCN, GAT, PPNP\n",
    "from scipy import sparse\n",
    "torch.cuda.set_device(3) \n",
    "device = torch.device(\"cuda\")# if torch.cuda.is_available() else \"cpu\")\n"
   ]
  },
  {
   "cell_type": "markdown",
   "id": "6e57c861",
   "metadata": {},
   "source": [
    "#### Train a GNN+WT-AWP model"
   ]
  },
  {
   "cell_type": "code",
   "execution_count": 2,
   "id": "6275491b",
   "metadata": {},
   "outputs": [],
   "source": [
    "def train_wtawp(data_name,model_name, seed_data,seed,weight,gamma):\n",
    "    data = Dataset(root='/tmp/', name=data_name,setting = 'nettack',seed = seed_data)\n",
    "    adj, features, labels = data.adj, data.features, data.labels\n",
    "    idx_train, idx_val, idx_test = data.idx_train, data.idx_val, data.idx_test\n",
    "    if model_name == \"gcn\":\n",
    "        model = GCN(nfeat=features.shape[1], nclass=labels.max()+1, nhid=64, device=device)\n",
    "        model = model.to(device)\n",
    "        proxy = GCN(nfeat=features.shape[1], nclass=labels.max()+1, nhid=64, device=device)\n",
    "        proxy = proxy.to(device)\n",
    "        model.fit_mp(features, adj, labels, idx_train,proxy=proxy,idx_val=idx_val,verbose=False,\n",
    "        awp_weight = weight, awp_gamma = gamma,train_iters = 200,idx_test = idx_test,seed=seed,awp_step = 1)\n",
    "    elif model_name == \"gat\":\n",
    "        pyg_data = Dpr2Pyg(data)\n",
    "        model = GAT(nfeat=features.shape[1],\n",
    "                          nhid=8, heads=8,\n",
    "                          nclass=labels.max().item() + 1,\n",
    "                          dropout=0.5, device=device)\n",
    "        model = model.to(device)\n",
    "         # convert deeprobust dataset to pyg dataset\n",
    "        # gat.fit(pyg_data, patience=200, verbose=True) # train with earlystopping\n",
    "        proxy = GAT(nfeat=features.shape[1],\n",
    "                  nhid=8, heads=8,\n",
    "                  nclass=labels.max().item() + 1,\n",
    "                  dropout=0.5, device=device)\n",
    "        proxy = proxy.to(device)\n",
    "        model.fit_mp(pyg_data,proxy=proxy,idx_val=idx_val,verbose=False,\n",
    "                 awp_weight = weight, awp_gamma = gamma,train_iters = 200,awp_step=1,idx_test = idx_test,seed=seed)      \n",
    "    elif model_name == \"ppnp\":\n",
    "        pyg_data = Dpr2Pyg(data)\n",
    "        model = PPNP(nfeat=features.shape[1],\n",
    "                          nhid=64, \n",
    "                          nclass=labels.max().item() + 1,\n",
    "                          dropout=0.5, device=device)\n",
    "        model = model.to(device)\n",
    "        proxy = PPNP(nfeat=features.shape[1],\n",
    "                      nhid=64, \n",
    "                      nclass=labels.max().item() + 1,\n",
    "                      dropout=0.5, device=device)\n",
    "        proxy = proxy.to(device)\n",
    "        model.fit_mp(pyg_data,proxy=proxy,idx_val=idx_val,verbose=False,\n",
    "                     awp_weight = weight, awp_gamma = gamma,train_iters = 200,awp_step=1,idx_test = idx_test,seed=seed)       \n",
    "    return model.test(idx_test)"
   ]
  },
  {
   "cell_type": "code",
   "execution_count": 15,
   "id": "11be4828",
   "metadata": {
    "scrolled": true
   },
   "outputs": [
    {
     "name": "stdout",
     "output_type": "stream",
     "text": [
      "Loading cora dataset...\n",
      "Selecting 1 largest connected components\n",
      "Processing...\n",
      "Done!\n",
      "Test set results: loss= 0.4327 accuracy= 0.8587\n"
     ]
    },
    {
     "data": {
      "text/plain": [
       "0.8586519114688129"
      ]
     },
     "execution_count": 15,
     "metadata": {},
     "output_type": "execute_result"
    }
   ],
   "source": [
    "train_wtawp(data_name = 'cora',model_name = 'ppnp',seed_data = 2,seed = 2, weight = 0.7,gamma=1)"
   ]
  },
  {
   "cell_type": "markdown",
   "id": "8f95d501",
   "metadata": {},
   "source": [
    "#### Train a vanilla GNN model"
   ]
  },
  {
   "cell_type": "code",
   "execution_count": 6,
   "id": "600985c2",
   "metadata": {
    "scrolled": true
   },
   "outputs": [],
   "source": [
    "def train_normal(data_name,model_name,seed_data,seed):\n",
    "    data = Dataset(root='/tmp/', name=data_name,setting = 'nettack',seed = seed_data)\n",
    "    adj, features, labels = data.adj, data.features, data.labels\n",
    "    idx_train, idx_val, idx_test = data.idx_train, data.idx_val, data.idx_test\n",
    "    if model_name == \"gcn\":\n",
    "        model = GCN(nfeat=features.shape[1], nclass=labels.max()+1, nhid=64, device=device)\n",
    "        model = model.to(device)\n",
    "        model.fit(features, adj, labels, idx_train,idx_val,seed = seed,train_iters=200)\n",
    "    elif model_name == \"gat\":\n",
    "        # convert deeprobust dataset to pyg dataset\n",
    "        pyg_data = Dpr2Pyg(data)\n",
    "        model = GAT(nfeat=features.shape[1],\n",
    "                          nhid=8, heads=8,\n",
    "                          nclass=labels.max().item() + 1,\n",
    "                          dropout=0.5, device=device)\n",
    "        model = model.to(device)\n",
    "        model.fit(pyg_data, patience=200, verbose=False,seed =seed) \n",
    "        \n",
    "    elif model_name == \"ppnp\":\n",
    "        # convert deeprobust dataset to pyg dataset\n",
    "        pyg_data = Dpr2Pyg(data)\n",
    "        model = PPNP(nfeat=features.shape[1],\n",
    "                          nhid=64, \n",
    "                          nclass=labels.max().item() + 1,\n",
    "                          dropout=0.5, device=device)\n",
    "        model = model.to(device)\n",
    "        model.fit(pyg_data, patience=200, verbose=False,seed =seed) \n",
    "    return model.test(idx_test)"
   ]
  },
  {
   "cell_type": "code",
   "execution_count": 16,
   "id": "dadde900",
   "metadata": {
    "scrolled": true
   },
   "outputs": [
    {
     "name": "stdout",
     "output_type": "stream",
     "text": [
      "Loading cora dataset...\n",
      "Selecting 1 largest connected components\n",
      "Processing...\n",
      "Done!\n",
      "Test set results: loss= 0.4756 accuracy= 0.8556\n"
     ]
    },
    {
     "data": {
      "text/plain": [
       "0.8556338028169015"
      ]
     },
     "execution_count": 16,
     "metadata": {},
     "output_type": "execute_result"
    }
   ],
   "source": [
    "train_normal(data_name = 'cora',model_name = 'ppnp',seed_data = 2, seed = 2)"
   ]
  }
 ],
 "metadata": {
  "kernelspec": {
   "display_name": "Python 3 (ipykernel)",
   "language": "python",
   "name": "python3"
  },
  "language_info": {
   "codemirror_mode": {
    "name": "ipython",
    "version": 3
   },
   "file_extension": ".py",
   "mimetype": "text/x-python",
   "name": "python",
   "nbconvert_exporter": "python",
   "pygments_lexer": "ipython3",
   "version": "3.8.10"
  }
 },
 "nbformat": 4,
 "nbformat_minor": 5
}
